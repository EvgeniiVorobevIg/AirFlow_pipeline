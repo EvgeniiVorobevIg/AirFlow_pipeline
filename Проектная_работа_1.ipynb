{
  "nbformat": 4,
  "nbformat_minor": 0,
  "metadata": {
    "colab": {
      "provenance": []
    },
    "kernelspec": {
      "name": "python3",
      "display_name": "Python 3"
    },
    "language_info": {
      "name": "python"
    }
  },
  "cells": [
    {
      "cell_type": "code",
      "metadata": {
        "id": "0unBvZMyx5H-"
      },
      "source": [
        "# Установка Airflow\n",
        "!pip install apache-airflow==2.1.4\n",
        "!pip install wtforms==2.3.3\n",
        "# Инициализация базы данных\n",
        "!airflow db init"
      ],
      "execution_count": null,
      "outputs": []
    },
    {
      "cell_type": "code",
      "metadata": {
        "id": "Ri_LIxa4z08a"
      },
      "source": [
        "# Создадим необходимые папки\n",
        "!mkdir /root/airflow/dags\n",
        "!touch /root/airflow/dags/dag.py"
      ],
      "execution_count": null,
      "outputs": []
    },
    {
      "cell_type": "code",
      "metadata": {
        "id": "Qx1Jfp2O0CBP"
      },
      "source": [
        "# Включим веб-сервер\n",
        "!airflow webserver -p 18273 -D"
      ],
      "execution_count": null,
      "outputs": []
    },
    {
      "cell_type": "code",
      "metadata": {
        "id": "6AicRo890Iyp"
      },
      "source": [
        "# Создадим пользователя Airflow\n",
        "!airflow users create \\\n",
        "          --username admin \\\n",
        "          --firstname admin \\\n",
        "          --lastname admin \\\n",
        "          --role Admin \\\n",
        "          --email admin@example.org \\\n",
        "          -p 12345"
      ],
      "execution_count": null,
      "outputs": []
    },
    {
      "cell_type": "code",
      "metadata": {
        "id": "kXlUN86A3m1o"
      },
      "source": [
        "# Запуск шедулера\n",
        "!airflow scheduler -D"
      ],
      "execution_count": null,
      "outputs": []
    },
    {
      "cell_type": "code",
      "metadata": {
        "id": "A7jJGmYR3nGP"
      },
      "source": [
        "!pip install pyngrok\n",
        "!ngrok authtoken 2LGqlyeTG6YSlrdLQHg1o4m6243_7XFTFKwhccWtFhfAgL7o2 #  https://dashboard.ngrok.com/get-started/setup \n",
        "# https://dashboard.ngrok.com/endpoints/status\n",
        "!nohup ngrok http -log=stdout 18273 > /dev/null &"
      ],
      "execution_count": null,
      "outputs": []
    },
    {
      "cell_type": "code",
      "metadata": {
        "id": "s97wnDa4m_pT"
      },
      "source": [
        "# Решение на разработку\n",
        "from airflow import DAG\n",
        "from datetime import timedelta\n",
        "from datetime import date\n",
        "from airflow.utils.dates import days_ago\n",
        "from airflow.operators.python import PythonOperator\n",
        "import pandas as pd\n",
        "from sqlalchemy import create_engine\n",
        "from  sqlalchemy.exc import OperationalError\n",
        "CONN = create_engine('sqlite:///test_task_db.db', echo=False)\n",
        "\n",
        "try:\n",
        "    CONN.execute(\"CREATE TABLE JOIN_DATA (currency TEXT NOT NULL,value INTEGER,date TEXT NOT NULL,rates TEXT NOT NULL)\")\n",
        "except OperationalError:\n",
        "    pass  \n",
        "\n",
        "def extract_currency(date):\n",
        "  import requests\n",
        "  url = 'https://api.exchangerate.host/timeseries?start_date='+str(date)+'&end_date='+str(date)+'&base=EUR&symbols=USD&format=json'\n",
        "  response = requests.get(url)\n",
        "  data = response.json()\n",
        "  extract_key = list(data['rates'][str(date)].keys())[0]\n",
        "  extract_value = list(data['rates'][str(date)].values())[0]\n",
        "  data['rates'] = str(extract_key) + ' : ' + str(extract_value)\n",
        "  data['currency'] = data.pop('base')\n",
        "  data['date'] = data.pop('start_date')\n",
        "  result = {key: [data[key]] for key in data.keys() & {'currency', 'rates', 'date'}}\n",
        "  pd.DataFrame(result).to_sql('currency', con=CONN)\n",
        "\n",
        "def load_db():\n",
        "  CONN.execute('INSERT INTO JOIN_DATA(currency, date, rates) SELECT currency, date, rates FROM currency')\n",
        "  CONN.execute('DROP TABLE currency')\n",
        "\n",
        "with DAG('dag', schedule_interval=timedelta(days=1), start_date=days_ago(1)) as dag:\n",
        "  t1 = PythonOperator(task_id='load_from_source',\n",
        "                      python_callable=extract_currency,\n",
        "                      op_kwargs={'date': '2021-01-01'}\n",
        "  )\n",
        "  t2 = PythonOperator(task_id='db_load', \n",
        "                      python_callable=load_db\n",
        "  )\n",
        "  t1 >> t2\n",
        "  import airflow\n",
        "from airflow import DAG\n",
        "from airflow.utils.dates import days_ago\n",
        "from airflow.operators.python_operator import PythonOperator\n",
        "\n",
        "args = {'owner': 'airflow', 'start_date': days_ago(1), 'provide_context': True }\n",
        "dag = DAG('dag',schedule_interval='@once', default_args=args)\n",
        "\n",
        "value_2 = {'a': 'b'}\n",
        "\n",
        "def push(**kwargs):\n",
        "    kwargs['ti'].xcom_push(key='key', value=value_2)\n",
        "\n",
        "def pull(**kwargs):\n",
        "    print(kwargs['ti'].xcom_pull(key='key', task_ids='push'))\n",
        "\n",
        "push1 = PythonOperator(\n",
        "    task_id='push', dag=dag, python_callable=push)\n",
        "pull1 = PythonOperator(\n",
        "    task_id='pull', dag=dag, python_callable=pull)\n",
        "\n",
        "push1 >> pull1"
      ],
      "execution_count": null,
      "outputs": []
    }
  ]
}